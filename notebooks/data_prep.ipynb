{
 "cells": [
  {
   "cell_type": "code",
   "execution_count": null,
   "id": "27368229",
   "metadata": {
    "vscode": {
     "languageId": "plaintext"
    }
   },
   "outputs": [],
   "source": [
    "# Cell 1: Imports\n",
    "import sys\n",
    "sys.path.append(\"..\")  # allow importing from src\n",
    "from src.utils import load_student_files, ensure_dir\n",
    "from pathlib import Path\n",
    "import pandas as pd"
   ]
  },
  {
   "cell_type": "code",
   "execution_count": null,
   "id": "bd47449c",
   "metadata": {
    "vscode": {
     "languageId": "plaintext"
    }
   },
   "outputs": [],
   "source": [
    "\n",
    "# Cell 2: Paths\n",
    "DATA_DIR = Path(\"../data/student_submissions\")\n",
    "PROCESSED_DIR = Path(\"../data/processed_submissions\")\n",
    "ensure_dir(PROCESSED_DIR)"
   ]
  },
  {
   "cell_type": "code",
   "execution_count": null,
   "id": "35713e6a",
   "metadata": {
    "vscode": {
     "languageId": "plaintext"
    }
   },
   "outputs": [],
   "source": [
    "# Cell 3: Load Student Files\n",
    "submissions = load_student_files(data_dir=DATA_DIR)\n",
    "print(f\"Loaded {len(submissions)} student submissions.\")\n",
    "for filename, code in submissions.items():\n",
    "    print(f\"{filename} → {len(code.splitlines())} lines\")\n"
   ]
  },
  {
   "cell_type": "code",
   "execution_count": null,
   "id": "1f6d499c",
   "metadata": {
    "vscode": {
     "languageId": "plaintext"
    }
   },
   "outputs": [],
   "source": [
    "# Cell 4: Inspect a Sample Submission\n",
    "sample_file = list(submissions.keys())[0]\n",
    "print(f\"--- {sample_file} ---\")\n",
    "print(submissions[sample_file][:500])  # print first 500 characters\n"
   ]
  },
  {
   "cell_type": "code",
   "execution_count": null,
   "id": "57d0ed27",
   "metadata": {
    "vscode": {
     "languageId": "plaintext"
    }
   },
   "outputs": [],
   "source": [
    "# Cell 5: Optional Preprocessing\n",
    "# Example: remove trailing whitespaces, normalize line endings\n",
    "processed_submissions = {}\n",
    "for filename, code in submissions.items():\n",
    "    clean_code = \"\\n\".join([line.rstrip() for line in code.splitlines()])\n",
    "    processed_submissions[filename] = clean_code"
   ]
  },
  {
   "cell_type": "code",
   "execution_count": null,
   "id": "f88b0764",
   "metadata": {
    "vscode": {
     "languageId": "plaintext"
    }
   },
   "outputs": [],
   "source": [
    "\n",
    "# Cell 6: Save Preprocessed Files\n",
    "for filename, code in processed_submissions.items():\n",
    "    output_path = PROCESSED_DIR / filename\n",
    "    with open(output_path, \"w\", encoding=\"utf-8\") as f:\n",
    "        f.write(code)\n",
    "\n",
    "print(f\"Processed files saved to {PROCESSED_DIR}\")"
   ]
  }
 ],
 "metadata": {
  "language_info": {
   "name": "python"
  }
 },
 "nbformat": 4,
 "nbformat_minor": 5
}
